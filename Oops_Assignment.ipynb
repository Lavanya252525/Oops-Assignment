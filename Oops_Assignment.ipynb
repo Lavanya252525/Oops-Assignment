{
  "nbformat": 4,
  "nbformat_minor": 0,
  "metadata": {
    "colab": {
      "provenance": []
    },
    "kernelspec": {
      "name": "python3",
      "display_name": "Python 3"
    },
    "language_info": {
      "name": "python"
    }
  },
  "cells": [
    {
      "cell_type": "markdown",
      "source": [
        "# **Python Oops Assignment**"
      ],
      "metadata": {
        "id": "7UpivbJh7Ujf"
      }
    },
    {
      "cell_type": "markdown",
      "source": [
        "1.  What is Object-Oriented Programming (OOP)?\n",
        " - Object-Oriented Programming(OOP) is a way of writing code where we organise everything using objects.\n",
        " - In simpler words, Think of objects like real-world thing(eg-Car). Each object has properties(called attributes) and Actions(called methods).\n",
        "\n",
        "2.  What is a class in OOP?\n",
        " - A class in OOP is a blueprint for creating objects. It defines the attributes(data) and methods(functions) that the objects will have.\n",
        "\n",
        "3.  What is an object in OOP?\n",
        " - An object in OOP is an instance of a class. It is a real-world entity created using the class blueprint. In brief, A class is the design and An object is the actual thing built from that design.\n",
        "\n",
        "4.  What is the difference between abstraction and encapsulation.\n",
        " - Abstraction and encapsulation are both important concepts in object-oriented programming, but they serve different purposes. Abstraction means hiding unnecessary details and showing only the essential features of an object. It helps in focusing on what an object does rather than how it does it. For example, when we use a mobile phone, we interact with its buttons and screen without knowing the internal code that makes it work.\n",
        " - On the other hand, encapsulation means wrapping the data and methods together into a single unit (class) and keeping the data safe from outside access. It is done by making variables private and using methods to access or change them. This protects the data from accidental modification and helps keep the code secure and clean.\n",
        "\n",
        "5.  What are dunder methods in Python?\n",
        " - Dunder methods in python are special methods that start and end with double underscores(like__init__, __str__, etc). \"Dunder\" stands for double Underscore.\n",
        " - These methods are also called magic methods, and they are used to define the behaviour of objects in different situations.\n",
        "\n",
        "6.  Explain the concept of inheritance in OOP.\n",
        " - Inheritance in OOP is a concept where one class(called the child class) inherits the properties and methods of another class(called the parent class). It helps in code reusability, so you don't have to write the same code again.\n",
        " - A child class is the most powerful and can use all the features of the parent class and can also have its own new features.\n",
        "\n",
        "7.  What is polymorphism in OOP?\n",
        " - Polymorphism in OOP means \"Many Forms\"- it allows the same method or function to work differently based on the object that calls it. In simpler terms, Different objeccts can use the same method name, but each can behave in its own way.\n",
        "\n",
        "8.  How is encapsulation achieved in Python?\n",
        " - Encapsulation in python is achieved by hiding the internal data of a class and allowing access to it only through methods.\n",
        "\n",
        "9.  What is a constructor in Python?\n",
        " - A constructor in python is a special method called __init__() that runs automatically when an object is created from a class. It is used to initialize the object's attributes(like setting the name, age, etc).\n",
        "\n",
        "10.  What are class and static methods in Python\n",
        " - In Python, class methods and static methods are special methods used inside a class, but they serve different purposes. A class method is defined using the @classmethod decorator and takes cls as its first parameter, which refers to the class itself. It can access and modify class-level data shared by all objects.\n",
        " - On the other hand, a static method is defined using the @staticmethod decorator and does not take self or cls as a parameter. It cannot access class or object data and is used for utility functions that are related to the class but don’t need to access any class or instance variables. Both methods help organize code better and make it more readable and reusable.\n",
        "\n",
        "11.  What is method overloading in Python?\n",
        " - Method overloading in general means having multiple methods with the same name but different parameters.\n",
        " - Though, In python True method overloading is not directly supported like in other languages. If you define multiple methods with the same name in a class, last one will overwrite the previous ones.\n",
        " - However, Python achieves method overloading using default arguments or *args and **kwargs, which allow a single method to handle different numbers or types of arguments.\n",
        "\n",
        "12.  What is method overriding in OOP\n",
        " - Method overriding in OOP means redifining a method in a child class that is already defined in the parent class. It allows the child class to provide its own version of the method to change or extend the behaviour of the parent class method.\n",
        "\n",
        "13.  What is a property decorator in Python?\n",
        " - A property decorator in python is used to turn a method into a property, so you can access it like an attribute without using paranthesis. It is defined using @property decorator. It helps in encapsulation by allowing controlled access to private variables.\n",
        "\n",
        "14.  Why is polymorphism important in OOP?\n",
        " - Polymorphism is important in OOP because it allows the same method or function to work different types of objects, making the code more flexible, reusable and easier to maintain.\n",
        " - With Polymorphism, You can write a single function that can handle different kinds of objects, as long as they follow a common inteface(like having the same method name). This means you don't have to write separate codes for each object type.\n",
        "\n",
        "15.  What is an abstract class in Python?\n",
        " - An abstract class in python is a class that can not be directly instantiated(you can't create objects from it). It is meant to be a base class for other classes and is used to define common methods that must be implemented  by its child classes.\n",
        " - Abstract classes are created using the ABC (Abstract Base Class) module and the @abstractmethod decorator.\n",
        "\n",
        "16.  What are the advantages of OOP?\n",
        " - The main advantages of OOP are as follows-\n",
        " - Reusability – You can reuse existing code using inheritance, which saves time and effort.\n",
        " - Modularity – Code is divided into classes and objects, making it organized and easier to manage.\n",
        " - Flexibility – With polymorphism, the same method can work in different ways, making code more flexible.\n",
        " - Data Protection – Encapsulation hides data and protects it from being changed directly.\n",
        " - Easier Maintenance – OOP code is easier to update, fix, and improve because everything is structured.\n",
        "\n",
        "17.  What is the difference between a class variable and an instance variable?\n",
        " - The difference between a class variable and an instance variable in Python is-\n",
        " - Class Variable - is shared by all objects of all the class and is difined outside the __init__() method, changing it affects in all instances.\n",
        " - Instance Variable - is unique to each object and is defined inside __init__() method using self, changing its affects only that object.\n",
        "\n",
        "18.  What is multiple inheritance in Python?\n",
        " - Multiple inheritance in python means a class can inherit from more than one parent. This allows the child class to access the features(methods and variable) of multiple parent classes.\n",
        "\n",
        "19.  Explain the purpose of ‘’__str__’ and ‘__repr__’ ‘ methods in Python?\n",
        " - In python, __str__ and __repr__ are Dunder (Double Underscore) methods used to define how an object is represented as a string.\n",
        " - __str__ = Called when you use print(object) and is meant for readable, user-friendly output. It should return a nicely formatted string.\n",
        " - __repr__ = Called when you type the object name in the interpreter or use repr(object) and is meant for debugging, so it should return detailed and unambigous string. Ideally, It should look like something that could recreate the object.\n",
        "\n",
        "20.  What is the significance of the ‘super()’ function in Python?\n",
        " - The super() function in Python is used to call methods from the parent class. It is especially useful in inheritance when you want to extend or customize the behavior of the parent class without rewriting its code.\n",
        "\n",
        "21.  What is the significance of the __del__ method in Python?\n",
        " - The __del__ method in python is a special method called a destructor. It is automatically called when an object is about to be destroyed (usually when it is no longer in use and is garbage collected).\n",
        "\n",
        "22.  What is the difference between @staticmethod and @classmethod in Python?\n",
        " - In Python, @staticmethod and @classmethod are used to define methods that don’t behave like regular instance methods.\n",
        " - A static method does not take self or cls as a parameter and cannot access class or instance variables. It is used for utility functions that are related to the class but don’t need any data from it.\n",
        " - A class method, on the other hand, takes cls as its first parameter and can access or modify class-level data. It is useful when you want a method to work with the class itself rather than any specific object.\n",
        "\n",
        "23.  How does polymorphism work in Python with inheritance?\n",
        " - In python, polymorphism with inheritance means that a child class can override methods from the parent class, and the same method name can work differently depending on the object calling it. This allows you to use a common interface while having different behaviors for different for different classes.\n",
        "\n",
        "24.  What is method chaining in Python OOP?\n",
        " - Method chaining in python OOP is technique where multiple methods are called on the same object is a single line, one after the other. This is done by making each method return self, which refers to the current object.\n",
        "\n",
        "25.  What is the purpose of the __call__ method in Python?\n",
        " - The _call_ method in Python allows an object to be called like a function. When you define _call_ inside a class, you can use an object of that class as if it were a function. It makes objects callable, meaning you can add function-like behavior to your objects.\n",
        "\n",
        "\n",
        "\n",
        "\n",
        "\n",
        "\n",
        "\n",
        "\n",
        "\n",
        "\n",
        "\n",
        "\n",
        "\n",
        "\n",
        "\n"
      ],
      "metadata": {
        "id": "rE0geD2e7lEO"
      }
    },
    {
      "cell_type": "markdown",
      "source": [
        "# **Practical Questions**"
      ],
      "metadata": {
        "id": "mD_Uyba87kfb"
      }
    },
    {
      "cell_type": "markdown",
      "source": [
        "1. Create a parent class Animal with a method speak() that prints a generic message. Create a child class Dog\n",
        "that overrides the speak() method to print \"Bark!\"."
      ],
      "metadata": {
        "id": "ie7hxtibhYAB"
      }
    },
    {
      "cell_type": "code",
      "source": [
        "class Animal:\n",
        "  def speak(self):\n",
        "    print(\"Generic Message\")\n",
        "\n",
        "class Dog(Animal):\n",
        "  def speak(self):\n",
        "    print(\"Bark!\")\n",
        "\n",
        "a = Animal()\n",
        "a.speak()\n",
        "\n",
        "d = Dog()\n",
        "d.speak()"
      ],
      "metadata": {
        "colab": {
          "base_uri": "https://localhost:8080/"
        },
        "id": "BBVTq6VP7i_a",
        "outputId": "3410cfb1-50fb-4115-b1c1-2550a230d0f2"
      },
      "execution_count": 1,
      "outputs": [
        {
          "output_type": "stream",
          "name": "stdout",
          "text": [
            "Generic Message\n",
            "Bark!\n"
          ]
        }
      ]
    },
    {
      "cell_type": "markdown",
      "source": [
        " 2. Write a program to create an abstract class Shape with a method area(). Derive classes Circle and Rectangle\n",
        "from it and implement the area() method in both."
      ],
      "metadata": {
        "id": "Ze1x-3xghY0T"
      }
    },
    {
      "cell_type": "code",
      "source": [
        "import abc\n",
        "class Shape:\n",
        "\n",
        "    @abc.abstractmethod\n",
        "    def calculate_area(self):\n",
        "        pass\n",
        "class Rectangle(Shape):\n",
        "    def calculate_area(self):\n",
        "        return \"Area of rectange is len*breadth\"\n",
        "class Circle(Shape):\n",
        "    def calculate_area(self):\n",
        "        return \"area of circle is pi r **2\"\n",
        "\n",
        "rect = Rectangle()\n",
        "rect.calculate_area()\n",
        "\n",
        "cir = Circle()\n",
        "cir.calculate_area()"
      ],
      "metadata": {
        "colab": {
          "base_uri": "https://localhost:8080/",
          "height": 35
        },
        "id": "KZX4srm9hZQh",
        "outputId": "dcb6807e-16c7-4559-d667-85ab1e9fedcc"
      },
      "execution_count": 5,
      "outputs": [
        {
          "output_type": "execute_result",
          "data": {
            "text/plain": [
              "'area of circle is pi r **2'"
            ],
            "application/vnd.google.colaboratory.intrinsic+json": {
              "type": "string"
            }
          },
          "metadata": {},
          "execution_count": 5
        }
      ]
    },
    {
      "cell_type": "markdown",
      "source": [
        " 3. Implement a multi-level inheritance scenario where a class Vehicle has an attribute type. Derive a class Car\n",
        "and further derive a class ElectricCar that adds a battery attribute."
      ],
      "metadata": {
        "id": "NO8RQIEUhZx3"
      }
    },
    {
      "cell_type": "code",
      "source": [
        "class Vehicle:\n",
        "    def vehicle_info(self, type):\n",
        "        print(\"The type of Vehicle is\", type)\n",
        "\n",
        "class Car(Vehicle):\n",
        "    def car_info(self, name):\n",
        "        print(\"The name of Car is\" , name)\n",
        "\n",
        "class ElectricCar(Car):\n",
        "  def ec_info(self, battery):\n",
        "    print(\"The battery of the car is\", battery)\n",
        "\n",
        "ec_info = ElectricCar()\n",
        "ec_info.vehicle_info(\"Car\")\n",
        "ec_info.car_info(\"Tesla\")\n",
        "ec_info.ec_info(\"40KWh\")"
      ],
      "metadata": {
        "colab": {
          "base_uri": "https://localhost:8080/"
        },
        "id": "FfpP0bwkhaj3",
        "outputId": "5d15139a-dca5-40b5-f9fb-c09abef34dd8"
      },
      "execution_count": 9,
      "outputs": [
        {
          "output_type": "stream",
          "name": "stdout",
          "text": [
            "The type of Vehicle is Car\n",
            "The name of Car is Tesla\n",
            "The battery of the car is 40KWh\n"
          ]
        }
      ]
    },
    {
      "cell_type": "markdown",
      "source": [
        " 4. Demonstrate polymorphism by creating a base class Bird with a method fly(). Create two derived classes\n",
        "Sparrow and Penguin that override the fly() method."
      ],
      "metadata": {
        "id": "WvDSR8eihfN6"
      }
    },
    {
      "cell_type": "code",
      "source": [
        "class Bird:\n",
        "  def fly(self):\n",
        "    print(\"Birds can fly but not always.\")\n",
        "\n",
        "class Sparrow(Bird):\n",
        "  def fly(self):\n",
        "    print(\"Sparrow can fly.\")\n",
        "\n",
        "class Penguin(Bird):\n",
        "  def fly(self):\n",
        "    print(\"Penguin can't fly.\")\n",
        "\n",
        "b1 = Sparrow()\n",
        "b2 = Penguin()\n",
        "\n",
        "b1.fly()\n",
        "b2.fly()"
      ],
      "metadata": {
        "colab": {
          "base_uri": "https://localhost:8080/"
        },
        "id": "kOSNpQuDhgBB",
        "outputId": "a66183ba-0a07-43fd-8634-e2983ac563ab"
      },
      "execution_count": 10,
      "outputs": [
        {
          "output_type": "stream",
          "name": "stdout",
          "text": [
            "Sparrow can fly.\n",
            "Penguin can't fly.\n"
          ]
        }
      ]
    },
    {
      "cell_type": "markdown",
      "source": [
        "5. Write a program to demonstrate encapsulation by creating a class BankAccount with private attributes\n",
        "balance and methods to deposit, withdraw, and check balance."
      ],
      "metadata": {
        "id": "lYSXKpCHhglh"
      }
    },
    {
      "cell_type": "code",
      "source": [
        "class BankAccount:\n",
        "  def __init__(self):\n",
        "    self.__balance = 0\n",
        "\n",
        "  def deposit(self, amount):\n",
        "    self.__balance += amount\n",
        "\n",
        "  def withdraw(self, amount):\n",
        "    self.__balance -= amount\n",
        "\n",
        "  def check_balance(self):\n",
        "    print(\"Balance:\", self.__balance)\n",
        "\n",
        "account = BankAccount()\n",
        "\n",
        "account.deposit(1000)\n",
        "account.withdraw(400)\n",
        "account.check_balance()"
      ],
      "metadata": {
        "colab": {
          "base_uri": "https://localhost:8080/"
        },
        "id": "ZVX0Yq0MhhBf",
        "outputId": "a9ef9c1f-189b-4217-8269-88ae2e89c570"
      },
      "execution_count": 17,
      "outputs": [
        {
          "output_type": "stream",
          "name": "stdout",
          "text": [
            "Balance: 600\n"
          ]
        }
      ]
    },
    {
      "cell_type": "markdown",
      "source": [
        "6. Demonstrate runtime polymorphism using a method play() in a base class Instrument. Derive classes Guitar\n",
        "and Piano that implement their own version of play()."
      ],
      "metadata": {
        "id": "9LziKYBjhhVY"
      }
    },
    {
      "cell_type": "code",
      "source": [
        "class Instrument:\n",
        "  def play(self):\n",
        "    print(\"Instrument is playing\")\n",
        "\n",
        "class Guitar(Instrument):\n",
        "  def play(self):\n",
        "    print(\"Guitar is playing music.\")\n",
        "\n",
        "class Piano(Instrument):\n",
        "  def play(self):\n",
        "    print(\"Piano is playing music.\")\n",
        "\n",
        "g = Guitar()\n",
        "p = Piano()\n",
        "g.play()\n",
        "p.play()\n"
      ],
      "metadata": {
        "colab": {
          "base_uri": "https://localhost:8080/"
        },
        "id": "fXVqzO1nhh4I",
        "outputId": "7516cbc4-cb48-451c-c63e-fd110d0bb1a7"
      },
      "execution_count": 18,
      "outputs": [
        {
          "output_type": "stream",
          "name": "stdout",
          "text": [
            "Guitar is playing music.\n",
            "Piano is playing music.\n"
          ]
        }
      ]
    },
    {
      "cell_type": "markdown",
      "source": [
        " 7. Create a class MathOperations with a class method add_numbers() to add two numbers and a static\n",
        "method subtract_numbers() to subtract two numbers."
      ],
      "metadata": {
        "id": "4tTkmcRLhihG"
      }
    },
    {
      "cell_type": "code",
      "source": [
        "class MathOperations:\n",
        "  @classmethod\n",
        "  def add_numbers(cls, a, b):\n",
        "    print(\"Addition-\", a+b)\n",
        "\n",
        "  @staticmethod\n",
        "  def subtract_numbers(a, b):\n",
        "    print(\"Subtraction-\", a-b)\n",
        "\n",
        "MathOperations.add_numbers(10, 20)\n",
        "MathOperations.subtract_numbers(20, 10)"
      ],
      "metadata": {
        "colab": {
          "base_uri": "https://localhost:8080/"
        },
        "id": "zNmEv75HhjDU",
        "outputId": "114cb9bc-edd9-4e52-c762-5fe1a0539f79"
      },
      "execution_count": 20,
      "outputs": [
        {
          "output_type": "stream",
          "name": "stdout",
          "text": [
            "Addition- 30\n",
            "Subtraction- 10\n"
          ]
        }
      ]
    },
    {
      "cell_type": "markdown",
      "source": [
        " 8. Implement a class Person with a class method to count the total number of persons created.\n"
      ],
      "metadata": {
        "id": "JG64SySChjjs"
      }
    },
    {
      "cell_type": "code",
      "source": [
        "class Person:\n",
        "  count = 0\n",
        "\n",
        "  def __init__(self):\n",
        "    Person.count += 1\n",
        "\n",
        "  @classmethod\n",
        "  def total_persons(cls):\n",
        "    print(\"Total persons created:\", Person.count)\n",
        "\n",
        "p1 = Person()\n",
        "p2 = Person()\n",
        "p3 = Person()\n",
        "Person.total_persons()"
      ],
      "metadata": {
        "colab": {
          "base_uri": "https://localhost:8080/"
        },
        "id": "cD49FjqkvWVB",
        "outputId": "cd03fc86-3180-4a8e-9e3c-87556ac1837b"
      },
      "execution_count": 23,
      "outputs": [
        {
          "output_type": "stream",
          "name": "stdout",
          "text": [
            "Total persons created: 3\n"
          ]
        }
      ]
    },
    {
      "cell_type": "markdown",
      "source": [
        "9. Write a class Fraction with attributes numerator and denominator. Override the str method to display the\n",
        "fraction as \"numerator/denominator\"."
      ],
      "metadata": {
        "id": "0K6qHwZSv3Ew"
      }
    },
    {
      "cell_type": "code",
      "source": [
        "class Fraction:\n",
        "  def __init__(self, numerator, denominator):\n",
        "    self.numerator = numerator\n",
        "    self.denominator = denominator\n",
        "\n",
        "    def __str__(self):\n",
        "      return f\"{self.numerator}/{self,denominator}\"\n",
        "f = Fraction(3, 5)\n",
        "print(f)"
      ],
      "metadata": {
        "colab": {
          "base_uri": "https://localhost:8080/"
        },
        "id": "85oUYS0NhkFI",
        "outputId": "a7d2ad38-e9db-41a1-e2fd-d5a55c1eb7eb"
      },
      "execution_count": 25,
      "outputs": [
        {
          "output_type": "stream",
          "name": "stdout",
          "text": [
            "<__main__.Fraction object at 0x7aa0aac8db50>\n"
          ]
        }
      ]
    },
    {
      "cell_type": "markdown",
      "source": [
        "10. Demonstrate operator overloading by creating a class Vector and overriding the add method to add two\n",
        "vectors."
      ],
      "metadata": {
        "id": "W1CRFRiHhkkc"
      }
    },
    {
      "cell_type": "code",
      "source": [
        "class Vector:\n",
        "  def __init__ (self, x, y):\n",
        "    self.x = x\n",
        "    self.y = y\n",
        "\n",
        "  def __add__ (self, other):\n",
        "    return Vector(self.x + other.x, self.y + other.y)\n",
        "\n",
        "  def __str__ (self):\n",
        "      return \"(\" + str(self.x) + \", \" + str(self.y) + \")\"\n",
        "\n",
        "v1 =  Vector(2, 3)\n",
        "v2 =  Vector(4, 5)\n",
        "\n",
        "v3 = v1 + v2\n",
        "\n",
        "print(\"Result of addition:\", v3)"
      ],
      "metadata": {
        "colab": {
          "base_uri": "https://localhost:8080/"
        },
        "id": "AWB_Nl32hk8w",
        "outputId": "53ba474c-00f6-4809-8624-8daa5a83e17d"
      },
      "execution_count": 30,
      "outputs": [
        {
          "output_type": "stream",
          "name": "stdout",
          "text": [
            "Result of addition: (6, 8)\n"
          ]
        }
      ]
    },
    {
      "cell_type": "markdown",
      "source": [
        "11. Create a class Person with attributes name and age. Add a method greet() that prints \"Hello, my name is\n",
        "{name} and I am {age} years old.\""
      ],
      "metadata": {
        "id": "96_lwaN-hlfn"
      }
    },
    {
      "cell_type": "code",
      "source": [
        "class Person:\n",
        "  def __init__ (self, name, age):\n",
        "    self.name = name\n",
        "    self.age = age\n",
        "  def greet(self):\n",
        "    print(\"Hello, my name is\", self.name, \"and I am\", self.age, \"years old.\")\n",
        "\n",
        "p = Person(\"Lavanya\", 22)\n",
        "p.greet()"
      ],
      "metadata": {
        "colab": {
          "base_uri": "https://localhost:8080/"
        },
        "id": "eNPnNeDchl4l",
        "outputId": "0169988b-8d27-4bfc-9607-cde3e6be8266"
      },
      "execution_count": 31,
      "outputs": [
        {
          "output_type": "stream",
          "name": "stdout",
          "text": [
            "Hello, my name is Lavanya and I am 22 years old.\n"
          ]
        }
      ]
    },
    {
      "cell_type": "markdown",
      "source": [
        " 12. Implement a class Student with attributes name and grades. Create a method average_grade() to compute\n",
        "the average of the grades."
      ],
      "metadata": {
        "id": "4o6q53U_hmWr"
      }
    },
    {
      "cell_type": "code",
      "source": [
        "class Student:\n",
        "  def __init__ (self, name, grades):\n",
        "    self.name = name\n",
        "    self.grades = grades\n",
        "\n",
        "  def average_grade(self):\n",
        "    total = sum(self.grades)\n",
        "    avg = total/ len(self.grades)\n",
        "    print(\"Average grades of\", self.name, \"is\", avg)\n",
        "\n",
        "s = Student(\"Lavanya\", [ 90, 85, 78, 97])\n",
        "s.average_grade()"
      ],
      "metadata": {
        "colab": {
          "base_uri": "https://localhost:8080/"
        },
        "id": "xOeGWbYNhmxE",
        "outputId": "a0d6038b-afac-40ba-aeff-c837b5fd0677"
      },
      "execution_count": 35,
      "outputs": [
        {
          "output_type": "stream",
          "name": "stdout",
          "text": [
            "Average grades of Lavanya is 87.5\n"
          ]
        }
      ]
    },
    {
      "cell_type": "markdown",
      "source": [
        " 13. Create a class Rectangle with methods set_dimensions() to set the dimensions and area() to calculate the\n",
        "area."
      ],
      "metadata": {
        "id": "jNqQGk8lhnR2"
      }
    },
    {
      "cell_type": "code",
      "source": [
        "class Rectangle:\n",
        "  def set_dimensions(self, length, breadth):\n",
        "    self.length = length\n",
        "    self.breadth = breadth\n",
        "\n",
        "  def area(self):\n",
        "    print(\"Area of rectangle is\", self.length*self.breadth)\n",
        "\n",
        "r = Rectangle()\n",
        "r.set_dimensions(15, 27)\n",
        "r.area()"
      ],
      "metadata": {
        "colab": {
          "base_uri": "https://localhost:8080/"
        },
        "id": "0j4OA3fHhnpN",
        "outputId": "f245e862-00d2-482f-eab7-fb36f41fbba3"
      },
      "execution_count": 37,
      "outputs": [
        {
          "output_type": "stream",
          "name": "stdout",
          "text": [
            "Area of rectangle is 405\n"
          ]
        }
      ]
    },
    {
      "cell_type": "markdown",
      "source": [
        " 14. Create a class Employee with a method calculate_salary() that computes the salary based on hours worked\n",
        "and hourly rate. Create a derived class Manager that adds a bonus to the salary."
      ],
      "metadata": {
        "id": "dzDql63zhoHP"
      }
    },
    {
      "cell_type": "code",
      "source": [
        "class Employee:\n",
        "  def __init__(self, hours_worked, hourly_rate):\n",
        "    self.hours_worked = hours_worked\n",
        "    self.hourly_rate = hourly_rate\n",
        "\n",
        "  def calculate_salary(self):\n",
        "    return self.hours_worked * self.hourly_rate\n",
        "\n",
        "class Manager(Employee):\n",
        "  def __init__ (self, hours_worked, hourly_rate, bonus):\n",
        "    super().__init__(hours_worked, hourly_rate)\n",
        "    self.bonus = bonus\n",
        "\n",
        "  def calculate_salary(self):\n",
        "    base_salary = super().calculate_salary()\n",
        "    return base_salary + self.bonus\n",
        "\n",
        "emp = Employee(40, 15)\n",
        "mgr = Manager(40, 15, 200)\n",
        "\n",
        "print(\"Employee Salary:\", emp.calculate_salary())\n",
        "print(\"Manager Salary:\", mgr.calculate_salary())"
      ],
      "metadata": {
        "colab": {
          "base_uri": "https://localhost:8080/"
        },
        "id": "ID0cFTT-hohd",
        "outputId": "c8e6b277-e2bb-45d0-a216-286753d0ddfc"
      },
      "execution_count": 38,
      "outputs": [
        {
          "output_type": "stream",
          "name": "stdout",
          "text": [
            "Employee Salary: 600\n",
            "Manager Salary: 800\n"
          ]
        }
      ]
    },
    {
      "cell_type": "markdown",
      "source": [
        "15. Create a class Product with attributes name, price, and quantity. Implement a method total_price() that\n",
        "calculates the total price of the product."
      ],
      "metadata": {
        "id": "d6DXFp-dho-m"
      }
    },
    {
      "cell_type": "code",
      "source": [
        "class Product:\n",
        "  def __init__(self, name, price, quantity):\n",
        "    self.name = name\n",
        "    self.price = price\n",
        "    self.quantity = quantity\n",
        "\n",
        "  def total_price(self):\n",
        "    print(\"Total price of\", self.name, \"is:\", self.price * self.quantity)\n",
        "\n",
        "p = Product(\"Notebook\", 50, 4)\n",
        "\n",
        "p.total_price()"
      ],
      "metadata": {
        "colab": {
          "base_uri": "https://localhost:8080/"
        },
        "id": "8uN-DzDQhpWH",
        "outputId": "65ca8046-eba4-4494-da51-f7c1cba0e7b8"
      },
      "execution_count": 39,
      "outputs": [
        {
          "output_type": "stream",
          "name": "stdout",
          "text": [
            "Total price of Notebook is: 200\n"
          ]
        }
      ]
    },
    {
      "cell_type": "markdown",
      "source": [
        "16. Create a class Animal with an abstract method sound(). Create two derived classes Cow and Sheep that\n",
        "implement the sound() method."
      ],
      "metadata": {
        "id": "u3cOJY-uhpwL"
      }
    },
    {
      "cell_type": "code",
      "source": [
        "import abc\n",
        "class Animal:\n",
        " @abc.abstractmethod\n",
        " def sound(self):\n",
        "    pass\n",
        "\n",
        "class Cow(Animal):\n",
        "  def sound(self):\n",
        "    print(\"Moo\")\n",
        "\n",
        "class Sheep(Animal):\n",
        "  def sound(self):\n",
        "    print(\"Baa\")\n",
        "\n",
        "c = Cow()\n",
        "s = Sheep()\n",
        "\n",
        "c.sound()\n",
        "s.sound()"
      ],
      "metadata": {
        "colab": {
          "base_uri": "https://localhost:8080/"
        },
        "id": "n6Xx0BFYhqIq",
        "outputId": "dfa8e2f9-5d32-4b0b-c707-7afc9eae81ab"
      },
      "execution_count": 47,
      "outputs": [
        {
          "output_type": "stream",
          "name": "stdout",
          "text": [
            "Moo\n",
            "Baa\n"
          ]
        }
      ]
    },
    {
      "cell_type": "markdown",
      "source": [
        " 17. Create a class Book with attributes title, author, and year_published. Add a method get_book_info() that\n",
        "returns a formatted string with the book's details."
      ],
      "metadata": {
        "id": "-JZ5UIW7hqm0"
      }
    },
    {
      "cell_type": "code",
      "source": [
        "class Book:\n",
        "  def __init__(self, title, author, year_published):\n",
        "    self.title = title\n",
        "    self.author = author\n",
        "    self.year_published = year_published\n",
        "\n",
        "  def get_book_info(self):\n",
        "    return \"Title: \" + self.title + \", Author: \" + self.author + \", Year: \" + str(self.year_published)\n",
        "\n",
        "b = Book(\"1984\", \"George Orwell\", 1949)\n",
        "\n",
        "print(b.get_book_info())"
      ],
      "metadata": {
        "colab": {
          "base_uri": "https://localhost:8080/"
        },
        "id": "duOIJK7Rhq93",
        "outputId": "cbd7ca78-77a4-4093-dd61-ff292c64188d"
      },
      "execution_count": 49,
      "outputs": [
        {
          "output_type": "stream",
          "name": "stdout",
          "text": [
            "Title: 1984, Author: George Orwell, Year: 1949\n"
          ]
        }
      ]
    },
    {
      "cell_type": "markdown",
      "source": [
        "18. Create a class House with attributes address and price. Create a derived class Mansion that adds an\n",
        "attribute number_of_rooms."
      ],
      "metadata": {
        "id": "d64MxwpNhrRN"
      }
    },
    {
      "cell_type": "code",
      "source": [
        "class House:\n",
        "  def __init__(self, address, price):\n",
        "    self.address = address\n",
        "    self.price = price\n",
        "\n",
        "class Mansion(House):\n",
        "  def __init__(self, address, price, number_of_rooms):\n",
        "    super().__init__(address, price)\n",
        "    self.number_of_rooms = number_of_rooms\n",
        "\n",
        "h = House(\"123 Maple St\", 150000)\n",
        "m = Mansion(\"456 Oak St\", 750000, 10)\n",
        "\n",
        "print(\"House:\", h.address, \"-\", h.price)\n",
        "print(\"Mansion:\", m.address, \"-\", m.price, \"-\", m.number_of_rooms, \"rooms\")"
      ],
      "metadata": {
        "colab": {
          "base_uri": "https://localhost:8080/"
        },
        "id": "3DUmzXhbhrul",
        "outputId": "9fdf0ee2-051a-4c12-9fd7-b8c5612f3442"
      },
      "execution_count": 51,
      "outputs": [
        {
          "output_type": "stream",
          "name": "stdout",
          "text": [
            "House: 123 Maple St - 150000\n",
            "Mansion: 456 Oak St - 750000 - 10 rooms\n"
          ]
        }
      ]
    },
    {
      "cell_type": "code",
      "source": [],
      "metadata": {
        "id": "MyFzdt5D74Ig"
      },
      "execution_count": null,
      "outputs": []
    }
  ]
}